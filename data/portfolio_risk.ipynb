{
 "cells": [
  {
   "cell_type": "markdown",
   "metadata": {},
   "source": [
    "#### Portfolio Risk Analysis\n",
    "long-short corporate bond portfolio\n",
    "\n",
    "taking only issuer credit risk, hedging with IR, FX, etc"
   ]
  },
  {
   "cell_type": "code",
   "execution_count": 135,
   "metadata": {},
   "outputs": [],
   "source": [
    "import pandas as pd\n",
    "import numpy as np\n",
    "import matplotlib.pyplot as plt\n",
    "import random\n",
    "import scipy.cluster.hierarchy as sch\n",
    "from scipy.optimize import minimize\n",
    "from scipy.optimize import Bounds\n",
    "from scipy.optimize import LinearConstraint\n",
    "from scipy.optimize import NonlinearConstraint\n",
    "from scipy.sparse import csc_matrix\n",
    "from scipy.sparse.linalg import LinearOperator\n",
    "import cvxportfolio as cvx"
   ]
  },
  {
   "cell_type": "code",
   "execution_count": 136,
   "metadata": {},
   "outputs": [
    {
     "name": "stdout",
     "output_type": "stream",
     "text": [
      "240 11797\n"
     ]
    }
   ],
   "source": [
    "df_port_wgt = pd.read_csv('portfolio_weights.csv', index_col=['ID'])\n",
    "df_mkt_wgt = pd.read_csv('market_portfolio_weights.csv', index_col=['ID'])\n",
    "print(len(df_port_wgt), len(df_mkt_wgt))"
   ]
  },
  {
   "cell_type": "code",
   "execution_count": 137,
   "metadata": {},
   "outputs": [
    {
     "data": {
      "text/plain": [
       "Index([  1,   2,   3,   4,   5,   6,   7,   8,   9,  10,\n",
       "       ...\n",
       "       455, 456, 457, 458, 459, 460, 461, 462, 498, 502],\n",
       "      dtype='int64', name='FACTOR', length=206)"
      ]
     },
     "execution_count": 137,
     "metadata": {},
     "output_type": "execute_result"
    }
   ],
   "source": [
    "df_factor_exp = pd.read_csv('risk_model_factor_exposure.csv', index_col=['ID'])\n",
    "df_factor_exp = df_factor_exp.pivot(columns=['FACTOR'],values=['DATA'])\n",
    "df_factor_exp.columns=df_factor_exp.columns.droplevel(0)\n",
    "len(df_factor_exp.columns)"
   ]
  },
  {
   "cell_type": "code",
   "execution_count": 139,
   "metadata": {},
   "outputs": [
    {
     "data": {
      "text/plain": [
       "{'Risk Type : Equity',\n",
       " 'Risk Type : FX',\n",
       " 'Risk Type : Interest Rate',\n",
       " 'Risk Type : Issuer Credit',\n",
       " 'Risk Type : Vega'}"
      ]
     },
     "execution_count": 139,
     "metadata": {},
     "output_type": "execute_result"
    }
   ],
   "source": [
    "df_factor_zoo = pd.read_csv('risk_model_risk_factors.csv', index_col=['FACTOR'])\n",
    "df_factor_zoo = df_factor_zoo[['HIERARCHY1','HIERARCHY2','NAME']]\n",
    "set(df_factor_zoo.HIERARCHY1)"
   ]
  },
  {
   "cell_type": "code",
   "execution_count": 145,
   "metadata": {},
   "outputs": [
    {
     "data": {
      "text/plain": [
       "0.025747948"
      ]
     },
     "execution_count": 145,
     "metadata": {},
     "output_type": "execute_result"
    }
   ],
   "source": [
    "df_factor_cov = pd.read_csv('risk_model_factor_covariance.csv')\n",
    "key1 = \"FACTOR_1\"\n",
    "key2 = \"FACTOR_2\"\n",
    "value = \"DATA\"\n",
    "dict_factor_cov = {\n",
    "    (df_factor_cov.loc[i,key1],df_factor_cov.loc[i,key2]) : \n",
    "    df_factor_cov.loc[i,value] for i in range(len(df_factor_cov))\n",
    "    }\n",
    "dict_factor_cov[(2,2)]"
   ]
  },
  {
   "cell_type": "code",
   "execution_count": 146,
   "metadata": {},
   "outputs": [
    {
     "data": {
      "text/plain": [
       "0.000328514"
      ]
     },
     "execution_count": 146,
     "metadata": {},
     "output_type": "execute_result"
    }
   ],
   "source": [
    "df_spec_cov = pd.read_csv('risk_model_specific_variance_covariance.csv')\n",
    "key1 = \"ID_1\"\n",
    "key2 = \"ID_2\"\n",
    "value = \"DATA\"\n",
    "dict_spec_cov = {\n",
    "    (df_spec_cov.loc[i,key1],df_spec_cov.loc[i,key2]) : \n",
    "    df_spec_cov.loc[i,value] for i in range(len(df_spec_cov))\n",
    "    }\n",
    "dict_spec_cov[(\"AT0000A24UY3\",\"XS2154348424\")]"
   ]
  },
  {
   "cell_type": "code",
   "execution_count": 147,
   "metadata": {},
   "outputs": [],
   "source": [
    "def get_portfolio_risk_exposures(df_wgt, df_risk_exp):\n",
    "    m_exp = np.matmul(\n",
    "        np.matrix(df_wgt).T, \n",
    "        np.matrix(df_risk_exp.fillna(0).loc[list(df_wgt.index),:])\n",
    "        )\n",
    "    return pd.DataFrame(m_exp, columns=df_risk_exp.columns)"
   ]
  },
  {
   "cell_type": "code",
   "execution_count": 148,
   "metadata": {},
   "outputs": [],
   "source": [
    "df_port_exp = get_portfolio_risk_exposures(df_port_wgt, df_factor_exp)\n",
    "df_mkt_exp = get_portfolio_risk_exposures(df_mkt_wgt, df_factor_exp)"
   ]
  },
  {
   "cell_type": "code",
   "execution_count": 161,
   "metadata": {},
   "outputs": [],
   "source": [
    "def get_portfolio_ex_ante_risk(df_exp, dict_factor_cov):\n",
    "    df_risk_contrib = df_exp * 0.0\n",
    "    for k in dict_factor_cov.keys():\n",
    "        tmp_risk = df_exp[k[0]] * dict_factor_cov[k] * df_exp[k[1]]\n",
    "        df_risk_contrib[k[0]] += tmp_risk\n",
    "    df_risk_contrib.index = [\"Risk\"]\n",
    "    return df_risk_contrib"
   ]
  },
  {
   "cell_type": "code",
   "execution_count": 162,
   "metadata": {},
   "outputs": [
    {
     "data": {
      "text/plain": [
       "Risk    0.00989\n",
       "dtype: float64"
      ]
     },
     "execution_count": 162,
     "metadata": {},
     "output_type": "execute_result"
    }
   ],
   "source": [
    "df_risk_contrib = get_portfolio_ex_ante_risk(df_port_exp, dict_factor_cov)\n",
    "risk = df_risk_contrib.sum(axis=1)\n",
    "risk"
   ]
  },
  {
   "cell_type": "code",
   "execution_count": 164,
   "metadata": {},
   "outputs": [],
   "source": [
    "def get_portfolio_risk_exp_hedged(df_wgt, df_risk_exp, df_factor_zoo):\n",
    "    df_exp = get_portfolio_risk_exposures(df_wgt, df_risk_exp)\n",
    "    credit_risk = list(\n",
    "        df_factor_zoo[df_factor_zoo.HIERARCHY1=='Risk Type : Issuer Credit'].index\n",
    "        )\n",
    "    for k in df_exp.columns:\n",
    "        if k not in credit_risk:\n",
    "            df_exp[k] = 0.0\n",
    "    return df_exp"
   ]
  },
  {
   "cell_type": "code",
   "execution_count": 165,
   "metadata": {},
   "outputs": [],
   "source": [
    "df_port_exp_hdg = get_portfolio_risk_exp_hedged(df_port_wgt, df_factor_exp, df_factor_zoo)\n",
    "df_mkt_exp_hdg = get_portfolio_risk_exp_hedged(df_mkt_wgt, df_factor_exp, df_factor_zoo)"
   ]
  },
  {
   "cell_type": "code",
   "execution_count": 166,
   "metadata": {},
   "outputs": [
    {
     "data": {
      "text/plain": [
       "Risk    0.00166\n",
       "dtype: float64"
      ]
     },
     "execution_count": 166,
     "metadata": {},
     "output_type": "execute_result"
    }
   ],
   "source": [
    "df_risk_contrib_hdg = get_portfolio_ex_ante_risk(df_port_exp_hdg, dict_factor_cov)\n",
    "risk = df_risk_contrib_hdg.sum(axis=1)\n",
    "risk"
   ]
  },
  {
   "cell_type": "code",
   "execution_count": 172,
   "metadata": {},
   "outputs": [
    {
     "data": {
      "text/html": [
       "<div>\n",
       "<style scoped>\n",
       "    .dataframe tbody tr th:only-of-type {\n",
       "        vertical-align: middle;\n",
       "    }\n",
       "\n",
       "    .dataframe tbody tr th {\n",
       "        vertical-align: top;\n",
       "    }\n",
       "\n",
       "    .dataframe thead th {\n",
       "        text-align: right;\n",
       "    }\n",
       "</style>\n",
       "<table border=\"1\" class=\"dataframe\">\n",
       "  <thead>\n",
       "    <tr style=\"text-align: right;\">\n",
       "      <th></th>\n",
       "      <th>Risk</th>\n",
       "      <th>HIERARCHY1</th>\n",
       "      <th>HIERARCHY2</th>\n",
       "      <th>NAME</th>\n",
       "    </tr>\n",
       "    <tr>\n",
       "      <th>FACTOR</th>\n",
       "      <th></th>\n",
       "      <th></th>\n",
       "      <th></th>\n",
       "      <th></th>\n",
       "    </tr>\n",
       "  </thead>\n",
       "  <tbody>\n",
       "    <tr>\n",
       "      <th>71</th>\n",
       "      <td>0.000325</td>\n",
       "      <td>Risk Type : Issuer Credit</td>\n",
       "      <td>Credit Quality</td>\n",
       "      <td>Credit Quality - USD Quality Q1</td>\n",
       "    </tr>\n",
       "    <tr>\n",
       "      <th>74</th>\n",
       "      <td>0.000247</td>\n",
       "      <td>Risk Type : Issuer Credit</td>\n",
       "      <td>Credit Quality</td>\n",
       "      <td>Credit Quality - USD Quality Q4</td>\n",
       "    </tr>\n",
       "    <tr>\n",
       "      <th>73</th>\n",
       "      <td>0.000202</td>\n",
       "      <td>Risk Type : Issuer Credit</td>\n",
       "      <td>Credit Quality</td>\n",
       "      <td>Credit Quality - USD Quality Q3</td>\n",
       "    </tr>\n",
       "    <tr>\n",
       "      <th>55</th>\n",
       "      <td>0.000193</td>\n",
       "      <td>Risk Type : Issuer Credit</td>\n",
       "      <td>Credit Style</td>\n",
       "      <td>Credit Style - Momentum</td>\n",
       "    </tr>\n",
       "    <tr>\n",
       "      <th>76</th>\n",
       "      <td>0.000161</td>\n",
       "      <td>Risk Type : Issuer Credit</td>\n",
       "      <td>Credit Style</td>\n",
       "      <td>Credit Style - Value</td>\n",
       "    </tr>\n",
       "  </tbody>\n",
       "</table>\n",
       "</div>"
      ],
      "text/plain": [
       "            Risk                 HIERARCHY1      HIERARCHY2  \\\n",
       "FACTOR                                                        \n",
       "71      0.000325  Risk Type : Issuer Credit  Credit Quality   \n",
       "74      0.000247  Risk Type : Issuer Credit  Credit Quality   \n",
       "73      0.000202  Risk Type : Issuer Credit  Credit Quality   \n",
       "55      0.000193  Risk Type : Issuer Credit    Credit Style   \n",
       "76      0.000161  Risk Type : Issuer Credit    Credit Style   \n",
       "\n",
       "                                   NAME  \n",
       "FACTOR                                   \n",
       "71      Credit Quality - USD Quality Q1  \n",
       "74      Credit Quality - USD Quality Q4  \n",
       "73      Credit Quality - USD Quality Q3  \n",
       "55              Credit Style - Momentum  \n",
       "76                 Credit Style - Value  "
      ]
     },
     "execution_count": 172,
     "metadata": {},
     "output_type": "execute_result"
    }
   ],
   "source": [
    "top5_risks = df_risk_contrib_hdg.transpose().sort_values(by='Risk',ascending=False).head(5)\n",
    "top5_risks.join(df_factor_zoo)"
   ]
  },
  {
   "cell_type": "code",
   "execution_count": 169,
   "metadata": {},
   "outputs": [
    {
     "data": {
      "text/plain": [
       "Risk    0.002352\n",
       "dtype: float64"
      ]
     },
     "execution_count": 169,
     "metadata": {},
     "output_type": "execute_result"
    }
   ],
   "source": [
    "df_risk_contrib_hdg_mkt = get_portfolio_ex_ante_risk(df_mkt_exp_hdg, dict_factor_cov)\n",
    "risk = df_risk_contrib_hdg_mkt.sum(axis=1)\n",
    "risk"
   ]
  },
  {
   "cell_type": "code",
   "execution_count": 171,
   "metadata": {},
   "outputs": [
    {
     "data": {
      "text/html": [
       "<div>\n",
       "<style scoped>\n",
       "    .dataframe tbody tr th:only-of-type {\n",
       "        vertical-align: middle;\n",
       "    }\n",
       "\n",
       "    .dataframe tbody tr th {\n",
       "        vertical-align: top;\n",
       "    }\n",
       "\n",
       "    .dataframe thead th {\n",
       "        text-align: right;\n",
       "    }\n",
       "</style>\n",
       "<table border=\"1\" class=\"dataframe\">\n",
       "  <thead>\n",
       "    <tr style=\"text-align: right;\">\n",
       "      <th></th>\n",
       "      <th>Risk</th>\n",
       "      <th>HIERARCHY1</th>\n",
       "      <th>HIERARCHY2</th>\n",
       "      <th>NAME</th>\n",
       "    </tr>\n",
       "    <tr>\n",
       "      <th>FACTOR</th>\n",
       "      <th></th>\n",
       "      <th></th>\n",
       "      <th></th>\n",
       "      <th></th>\n",
       "    </tr>\n",
       "  </thead>\n",
       "  <tbody>\n",
       "    <tr>\n",
       "      <th>33</th>\n",
       "      <td>0.001261</td>\n",
       "      <td>Risk Type : Issuer Credit</td>\n",
       "      <td>Credit Market Intercept</td>\n",
       "      <td>Credit Market Intercept - Global Market Intercept</td>\n",
       "    </tr>\n",
       "    <tr>\n",
       "      <th>5</th>\n",
       "      <td>0.000403</td>\n",
       "      <td>Risk Type : Issuer Credit</td>\n",
       "      <td>Credit Style</td>\n",
       "      <td>Credit Style - Beta</td>\n",
       "    </tr>\n",
       "    <tr>\n",
       "      <th>70</th>\n",
       "      <td>0.000391</td>\n",
       "      <td>Risk Type : Issuer Credit</td>\n",
       "      <td>Credit Currency Intercept</td>\n",
       "      <td>Credit Currency Intercept - USD Intercept</td>\n",
       "    </tr>\n",
       "    <tr>\n",
       "      <th>69</th>\n",
       "      <td>0.000116</td>\n",
       "      <td>Risk Type : Issuer Credit</td>\n",
       "      <td>Credit Country</td>\n",
       "      <td>Credit Country - United States</td>\n",
       "    </tr>\n",
       "    <tr>\n",
       "      <th>66</th>\n",
       "      <td>0.000085</td>\n",
       "      <td>Risk Type : Issuer Credit</td>\n",
       "      <td>Credit Style</td>\n",
       "      <td>Credit Style - Steepness</td>\n",
       "    </tr>\n",
       "  </tbody>\n",
       "</table>\n",
       "</div>"
      ],
      "text/plain": [
       "            Risk                 HIERARCHY1                 HIERARCHY2  \\\n",
       "FACTOR                                                                   \n",
       "33      0.001261  Risk Type : Issuer Credit    Credit Market Intercept   \n",
       "5       0.000403  Risk Type : Issuer Credit               Credit Style   \n",
       "70      0.000391  Risk Type : Issuer Credit  Credit Currency Intercept   \n",
       "69      0.000116  Risk Type : Issuer Credit             Credit Country   \n",
       "66      0.000085  Risk Type : Issuer Credit               Credit Style   \n",
       "\n",
       "                                                     NAME  \n",
       "FACTOR                                                     \n",
       "33      Credit Market Intercept - Global Market Intercept  \n",
       "5                                     Credit Style - Beta  \n",
       "70              Credit Currency Intercept - USD Intercept  \n",
       "69                         Credit Country - United States  \n",
       "66                               Credit Style - Steepness  "
      ]
     },
     "execution_count": 171,
     "metadata": {},
     "output_type": "execute_result"
    }
   ],
   "source": [
    "top5_risks_mkt = df_risk_contrib_hdg_mkt.transpose().sort_values(by='Risk',ascending=False).head(5)\n",
    "top5_risks_mkt.join(df_factor_zoo)"
   ]
  }
 ],
 "metadata": {
  "kernelspec": {
   "display_name": "Python 3",
   "language": "python",
   "name": "python3"
  },
  "language_info": {
   "codemirror_mode": {
    "name": "ipython",
    "version": 3
   },
   "file_extension": ".py",
   "mimetype": "text/x-python",
   "name": "python",
   "nbconvert_exporter": "python",
   "pygments_lexer": "ipython3",
   "version": "3.12.3"
  }
 },
 "nbformat": 4,
 "nbformat_minor": 2
}
