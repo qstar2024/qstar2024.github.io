{
 "cells": [
  {
   "cell_type": "markdown",
   "metadata": {},
   "source": [
    "#### Portfolio Risk Analysis\n",
    "long-short corporate bond portfolio\n",
    "\n",
    "taking only issuer credit risk, hedging with IR, FX, etc"
   ]
  },
  {
   "cell_type": "code",
   "execution_count": null,
   "metadata": {},
   "outputs": [],
   "source": [
    "import pandas as pd\n",
    "import numpy as np\n",
    "import matplotlib.pyplot as plt\n",
    "import random\n",
    "import scipy.cluster.hierarchy as sch\n",
    "from scipy.optimize import minimize\n",
    "from scipy.optimize import LinearConstraint\n",
    "from scipy.optimize import NonlinearConstraint\n",
    "from scipy.sparse import csc_matrix\n",
    "from scipy.sparse.linalg import LinearOperator\n",
    "import cvxportfolio as cvx"
   ]
  },
  {
   "cell_type": "code",
   "execution_count": null,
   "metadata": {},
   "outputs": [],
   "source": [
    "df_ret = pd.read_csv('daily_stock_returns.csv', \n",
    "                     index_col=['DATE'], parse_dates=['DATE'])"
   ]
  }
 ],
 "metadata": {
  "language_info": {
   "name": "python"
  }
 },
 "nbformat": 4,
 "nbformat_minor": 2
}
