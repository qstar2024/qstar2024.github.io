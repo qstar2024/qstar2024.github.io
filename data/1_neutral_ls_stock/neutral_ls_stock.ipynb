{
 "cells": [
  {
   "cell_type": "markdown",
   "metadata": {},
   "source": [
    "#### MVO Portfolio with Cost Penalty\n",
    "50M$ dollar-neutral long-short stock portfolio\n",
    "\n",
    "monthly rebalancing, mvo with tcost penalized, 10 stocks, daily returns 2015-2022\n",
    "\n",
    "expected returns = cum ret over past year excl. last month\n",
    "\n",
    "covariance matrix = historical weekly, lookback=52w, half-life=26w\n",
    "\n",
    "tcost = 1bp per trade notional"
   ]
  },
  {
   "cell_type": "code",
   "execution_count": 73,
   "metadata": {},
   "outputs": [],
   "source": [
    "import pandas as pd\n",
    "import numpy as np\n",
    "import matplotlib.pyplot as plt\n",
    "import random\n",
    "import scipy.cluster.hierarchy as sch\n",
    "from scipy.optimize import minimize\n",
    "from scipy.optimize import Bounds\n",
    "from scipy.optimize import LinearConstraint\n",
    "from scipy.optimize import NonlinearConstraint\n",
    "from scipy.sparse import csc_matrix\n",
    "from scipy.sparse.linalg import LinearOperator\n",
    "import cvxportfolio as cvx"
   ]
  },
  {
   "cell_type": "code",
   "execution_count": 74,
   "metadata": {},
   "outputs": [],
   "source": [
    "df_ret = pd.read_csv('daily_stock_returns.csv', \n",
    "                     index_col=['DATE'], parse_dates=['DATE'])\n",
    "df_ret = df_ret.pivot(columns=['ID'],values=['RTN'])\n",
    "df_ret.columns=df_ret.columns.droplevel(0)"
   ]
  },
  {
   "cell_type": "code",
   "execution_count": 75,
   "metadata": {},
   "outputs": [
    {
     "data": {
      "text/plain": [
       "ID\n",
       "8       0\n",
       "9       0\n",
       "47      0\n",
       "48      0\n",
       "74      0\n",
       "306     0\n",
       "743     0\n",
       "2310    0\n",
       "4098    0\n",
       "7839    0\n",
       "dtype: int64"
      ]
     },
     "execution_count": 75,
     "metadata": {},
     "output_type": "execute_result"
    }
   ],
   "source": [
    "# check for nan\n",
    "df_ret.isna().sum()"
   ]
  },
  {
   "cell_type": "code",
   "execution_count": 76,
   "metadata": {},
   "outputs": [
    {
     "data": {
      "text/html": [
       "<div>\n",
       "<style scoped>\n",
       "    .dataframe tbody tr th:only-of-type {\n",
       "        vertical-align: middle;\n",
       "    }\n",
       "\n",
       "    .dataframe tbody tr th {\n",
       "        vertical-align: top;\n",
       "    }\n",
       "\n",
       "    .dataframe thead th {\n",
       "        text-align: right;\n",
       "    }\n",
       "</style>\n",
       "<table border=\"1\" class=\"dataframe\">\n",
       "  <thead>\n",
       "    <tr style=\"text-align: right;\">\n",
       "      <th>ID</th>\n",
       "      <th>8</th>\n",
       "      <th>9</th>\n",
       "      <th>47</th>\n",
       "      <th>48</th>\n",
       "      <th>74</th>\n",
       "      <th>306</th>\n",
       "      <th>743</th>\n",
       "      <th>2310</th>\n",
       "      <th>4098</th>\n",
       "      <th>7839</th>\n",
       "    </tr>\n",
       "  </thead>\n",
       "  <tbody>\n",
       "    <tr>\n",
       "      <th>count</th>\n",
       "      <td>2087.000000</td>\n",
       "      <td>2087.000000</td>\n",
       "      <td>2087.000000</td>\n",
       "      <td>2087.000000</td>\n",
       "      <td>2087.000000</td>\n",
       "      <td>2087.000000</td>\n",
       "      <td>2087.000000</td>\n",
       "      <td>2087.000000</td>\n",
       "      <td>2087.000000</td>\n",
       "      <td>2087.000000</td>\n",
       "    </tr>\n",
       "    <tr>\n",
       "      <th>mean</th>\n",
       "      <td>0.000422</td>\n",
       "      <td>0.001004</td>\n",
       "      <td>0.000988</td>\n",
       "      <td>0.000728</td>\n",
       "      <td>0.000965</td>\n",
       "      <td>0.001020</td>\n",
       "      <td>0.002076</td>\n",
       "      <td>0.000468</td>\n",
       "      <td>0.001629</td>\n",
       "      <td>0.000737</td>\n",
       "    </tr>\n",
       "    <tr>\n",
       "      <th>std</th>\n",
       "      <td>0.017937</td>\n",
       "      <td>0.017417</td>\n",
       "      <td>0.016431</td>\n",
       "      <td>0.017501</td>\n",
       "      <td>0.018530</td>\n",
       "      <td>0.020601</td>\n",
       "      <td>0.029763</td>\n",
       "      <td>0.023044</td>\n",
       "      <td>0.035094</td>\n",
       "      <td>0.017533</td>\n",
       "    </tr>\n",
       "    <tr>\n",
       "      <th>min</th>\n",
       "      <td>-0.122248</td>\n",
       "      <td>-0.147390</td>\n",
       "      <td>-0.172769</td>\n",
       "      <td>-0.116342</td>\n",
       "      <td>-0.128647</td>\n",
       "      <td>-0.140494</td>\n",
       "      <td>-0.187559</td>\n",
       "      <td>-0.263901</td>\n",
       "      <td>-0.210628</td>\n",
       "      <td>-0.111008</td>\n",
       "    </tr>\n",
       "    <tr>\n",
       "      <th>25%</th>\n",
       "      <td>-0.007778</td>\n",
       "      <td>-0.006161</td>\n",
       "      <td>-0.006735</td>\n",
       "      <td>-0.006620</td>\n",
       "      <td>-0.007081</td>\n",
       "      <td>-0.008108</td>\n",
       "      <td>-0.011455</td>\n",
       "      <td>-0.008734</td>\n",
       "      <td>-0.014468</td>\n",
       "      <td>-0.006465</td>\n",
       "    </tr>\n",
       "    <tr>\n",
       "      <th>50%</th>\n",
       "      <td>0.000000</td>\n",
       "      <td>0.000419</td>\n",
       "      <td>0.000310</td>\n",
       "      <td>0.000357</td>\n",
       "      <td>0.000220</td>\n",
       "      <td>0.000538</td>\n",
       "      <td>0.001654</td>\n",
       "      <td>0.000176</td>\n",
       "      <td>0.000000</td>\n",
       "      <td>0.000386</td>\n",
       "    </tr>\n",
       "    <tr>\n",
       "      <th>75%</th>\n",
       "      <td>0.008412</td>\n",
       "      <td>0.009145</td>\n",
       "      <td>0.008314</td>\n",
       "      <td>0.008862</td>\n",
       "      <td>0.009968</td>\n",
       "      <td>0.010618</td>\n",
       "      <td>0.016317</td>\n",
       "      <td>0.011514</td>\n",
       "      <td>0.017642</td>\n",
       "      <td>0.008710</td>\n",
       "    </tr>\n",
       "    <tr>\n",
       "      <th>max</th>\n",
       "      <td>0.126868</td>\n",
       "      <td>0.142169</td>\n",
       "      <td>0.127989</td>\n",
       "      <td>0.162584</td>\n",
       "      <td>0.119808</td>\n",
       "      <td>0.141311</td>\n",
       "      <td>0.298067</td>\n",
       "      <td>0.175936</td>\n",
       "      <td>0.198949</td>\n",
       "      <td>0.160524</td>\n",
       "    </tr>\n",
       "  </tbody>\n",
       "</table>\n",
       "</div>"
      ],
      "text/plain": [
       "ID            8            9            47           48           74    \\\n",
       "count  2087.000000  2087.000000  2087.000000  2087.000000  2087.000000   \n",
       "mean      0.000422     0.001004     0.000988     0.000728     0.000965   \n",
       "std       0.017937     0.017417     0.016431     0.017501     0.018530   \n",
       "min      -0.122248    -0.147390    -0.172769    -0.116342    -0.128647   \n",
       "25%      -0.007778    -0.006161    -0.006735    -0.006620    -0.007081   \n",
       "50%       0.000000     0.000419     0.000310     0.000357     0.000220   \n",
       "75%       0.008412     0.009145     0.008314     0.008862     0.009968   \n",
       "max       0.126868     0.142169     0.127989     0.162584     0.119808   \n",
       "\n",
       "ID            306          743          2310         4098         7839  \n",
       "count  2087.000000  2087.000000  2087.000000  2087.000000  2087.000000  \n",
       "mean      0.001020     0.002076     0.000468     0.001629     0.000737  \n",
       "std       0.020601     0.029763     0.023044     0.035094     0.017533  \n",
       "min      -0.140494    -0.187559    -0.263901    -0.210628    -0.111008  \n",
       "25%      -0.008108    -0.011455    -0.008734    -0.014468    -0.006465  \n",
       "50%       0.000538     0.001654     0.000176     0.000000     0.000386  \n",
       "75%       0.010618     0.016317     0.011514     0.017642     0.008710  \n",
       "max       0.141311     0.298067     0.175936     0.198949     0.160524  "
      ]
     },
     "execution_count": 76,
     "metadata": {},
     "output_type": "execute_result"
    }
   ],
   "source": [
    "# check for outlier\n",
    "df_ret.describe()"
   ]
  },
  {
   "cell_type": "code",
   "execution_count": 77,
   "metadata": {},
   "outputs": [],
   "source": [
    "def get_cumulative_returns(df_ret_d):\n",
    "    return df_ret_d.add(1).cumprod().sub(1).iloc[-1,:]\n",
    "\n",
    "def get_returns_period(df_ret_d, days_in_period):\n",
    "    len_ret = len(df_ret_d)\n",
    "    idx_ret = [i for i in range(len_ret % days_in_period -1, len_ret, days_in_period)]\n",
    "    df_ret_p = df_ret.iloc[idx_ret,:]\n",
    "    k = 0\n",
    "    for i,j in enumerate(idx_ret):\n",
    "        df_ret_p.iloc[i,:] = get_cumulative_returns(df_ret_d[k:j])\n",
    "        k = j\n",
    "    return df_ret_p\n",
    "\n",
    "def get_returns_monthly(df_ret_d, days_in_month=22):\n",
    "    return get_returns_period(df_ret_d, days_in_month)\n",
    "\n",
    "def get_returns_weekly(df_ret_d, days_in_week=5):\n",
    "    return get_returns_period(df_ret_d, days_in_week)\n",
    "\n",
    "def get_expected_returns(df_ret_d, lookback=12, exclusion=-1):\n",
    "    return get_cumulative_returns(get_returns_monthly(df_ret_d)[-lookback:exclusion])\n",
    "\n",
    "def get_covariance_matrix(df_ret_d, lookback=52):\n",
    "    return get_returns_weekly(df_ret_d)[-lookback:].cov()"
   ]
  },
  {
   "cell_type": "code",
   "execution_count": 94,
   "metadata": {},
   "outputs": [],
   "source": [
    "def single_day_mvo_optimizer(df_ret_d, df_ini_w=None, t=0.0001, a=0.8, thres=0.00000001):\n",
    "    n = len(df_ret_d.columns)\n",
    "\n",
    "    df_cov = get_covariance_matrix(df_ret_d)\n",
    "    df_exp = get_expected_returns(df_ret_d)\n",
    "    C = np.matrix(df_cov)\n",
    "    r = np.matrix(df_exp)\n",
    "\n",
    "    if df_ini_w is None:\n",
    "        df_ini_w = df_exp.copy()\n",
    "        df_ini_w.iloc[:] = 0.0\n",
    "    w0 = list(df_ini_w.values)\n",
    "    x0 = np.concatenate((w0, np.zeros(n)), axis=None)\n",
    "\n",
    "    bounds = Bounds(\n",
    "        np.concatenate((np.full(n, -np.inf), np.zeros(n)), axis=None),\n",
    "        np.concatenate((np.full(n, np.inf), np.full(n, np.inf)), axis=None)\n",
    "    )\n",
    "\n",
    "    m_dollar_neutral = np.matrix(np.concatenate((np.ones(n), np.zeros(n)), axis=None))\n",
    "    m_chg_wgt_lb = np.concatenate((np.diag(np.ones(n)), np.diag(np.ones(n))), axis=1)\n",
    "    m_chg_wgt_ub = np.concatenate((np.diag(np.ones(n)), np.diag(np.full(n, -1))), axis=1)\n",
    "    m_loading = np.concatenate((m_dollar_neutral, m_chg_wgt_lb), axis=0)\n",
    "    m_loading = np.concatenate((m_loading, m_chg_wgt_ub), axis=0)\n",
    "\n",
    "    m_lb = np.concatenate((np.zeros(1), w0), axis=None)\n",
    "    m_lb = np.concatenate((m_lb, np.full(n, -np.inf)), axis=None)\n",
    "\n",
    "    m_ub = np.concatenate((np.zeros(1), np.full(n, np.inf)), axis=None)\n",
    "    m_ub = np.concatenate((m_ub, w0), axis=None)\n",
    "\n",
    "    linear_constraint = LinearConstraint(m_loading, m_lb, m_ub)\n",
    "\n",
    "    def rosen(x):\n",
    "        return a*np.matmul(np.matmul(x[:n],C),x[:n].T) - np.matmul(x[:n],r.T) + t*np.sum(x[n:])\n",
    "    \n",
    "    res = minimize(rosen, x0, method='trust-constr', \n",
    "                   constraints=[linear_constraint], \n",
    "                   options={'verbose': 1}, bounds=bounds)\n",
    "    \n",
    "    return res"
   ]
  },
  {
   "cell_type": "code",
   "execution_count": 95,
   "metadata": {},
   "outputs": [
    {
     "name": "stderr",
     "output_type": "stream",
     "text": [
      "C:\\Users\\tqiu\\AppData\\Local\\Temp\\ipykernel_38200\\3279074037.py:10: SettingWithCopyWarning: \n",
      "A value is trying to be set on a copy of a slice from a DataFrame\n",
      "\n",
      "See the caveats in the documentation: https://pandas.pydata.org/pandas-docs/stable/user_guide/indexing.html#returning-a-view-versus-a-copy\n",
      "  df_ret_p.iloc[i,:] = get_cumulative_returns(df_ret_d[k:j])\n"
     ]
    },
    {
     "name": "stdout",
     "output_type": "stream",
     "text": [
      "`xtol` termination condition is satisfied.\n",
      "Number of iterations: 319, function evaluations: 7308, CG iterations: 2772, optimality: 2.20e-07, constraint violation: 1.42e-14, execution time: 0.84 s.\n"
     ]
    },
    {
     "data": {
      "text/plain": [
       "           message: `xtol` termination condition is satisfied.\n",
       "           success: True\n",
       "            status: 2\n",
       "               fun: -143.5633214098362\n",
       "                 x: [ 2.213e+02 -9.856e+00 ...  5.778e+01  1.459e+02]\n",
       "               nit: 319\n",
       "              nfev: 7308\n",
       "              njev: 348\n",
       "              nhev: 0\n",
       "          cg_niter: 2772\n",
       "      cg_stop_cond: 4\n",
       "              grad: [-1.814e-01 -1.812e-01 ...  1.000e-04  1.000e-04]\n",
       "   lagrangian_grad: [ 8.566e-08 -1.489e-08 ... -1.402e-08  2.329e-08]\n",
       "            constr: [array([ 1.421e-14,  4.427e+02, ..., -1.156e+02,\n",
       "                           -2.919e+02]), array([ 2.213e+02, -9.856e+00, ...,  5.778e+01,\n",
       "                            1.459e+02])]\n",
       "               jac: [array([[ 1.000e+00,  1.000e+00, ...,  0.000e+00,\n",
       "                             0.000e+00],\n",
       "                           [ 1.000e+00,  0.000e+00, ...,  0.000e+00,\n",
       "                             0.000e+00],\n",
       "                           ...,\n",
       "                           [ 0.000e+00,  0.000e+00, ..., -1.000e+00,\n",
       "                             0.000e+00],\n",
       "                           [ 0.000e+00,  0.000e+00, ...,  0.000e+00,\n",
       "                            -1.000e+00]]), array([[ 1.000e+00,  0.000e+00, ...,  0.000e+00,\n",
       "                             0.000e+00],\n",
       "                           [ 0.000e+00,  1.000e+00, ...,  0.000e+00,\n",
       "                             0.000e+00],\n",
       "                           ...,\n",
       "                           [ 0.000e+00,  0.000e+00, ...,  1.000e+00,\n",
       "                             0.000e+00],\n",
       "                           [ 0.000e+00,  0.000e+00, ...,  0.000e+00,\n",
       "                             1.000e+00]])]\n",
       "       constr_nfev: [0, 0]\n",
       "       constr_njev: [0, 0]\n",
       "       constr_nhev: [0, 0]\n",
       "                 v: [array([ 1.813e-01, -5.501e-12, ...,  1.562e-11,\n",
       "                            7.564e-12]), array([ 0.000e+00,  0.000e+00, ..., -3.125e-11,\n",
       "                           -1.513e-11])]\n",
       "            method: tr_interior_point\n",
       "        optimality: 2.20317996000608e-07\n",
       "  constr_violation: 1.4210854715202004e-14\n",
       "    execution_time: 0.8443522453308105\n",
       "         tr_radius: 1.0000000000000005e-09\n",
       "    constr_penalty: 1.0\n",
       " barrier_parameter: 2.048000000000001e-09\n",
       " barrier_tolerance: 2.048000000000001e-09\n",
       "             niter: 319"
      ]
     },
     "execution_count": 95,
     "metadata": {},
     "output_type": "execute_result"
    }
   ],
   "source": [
    "res = single_day_mvo_optimizer(df_ret)\n",
    "res"
   ]
  },
  {
   "cell_type": "code",
   "execution_count": 102,
   "metadata": {},
   "outputs": [
    {
     "data": {
      "text/plain": [
       "<Axes: xlabel='ID'>"
      ]
     },
     "execution_count": 102,
     "metadata": {},
     "output_type": "execute_result"
    },
    {
     "data": {
      "image/png": "[encoded data removed]",
      "text/plain": [
       "<Figure size 640x480 with 1 Axes>"
      ]
     },
     "metadata": {},
     "output_type": "display_data"
    }
   ],
   "source": [
    "df_opt_w = pd.DataFrame(res.x[:10],index=df_ret.columns, columns=[\"WEIGHT\"])\n",
    "df_opt_w.plot.bar()"
   ]
  },
  {
   "cell_type": "code",
   "execution_count": null,
   "metadata": {},
   "outputs": [],
   "source": []
  }
 ],
 "metadata": {
  "kernelspec": {
   "display_name": "Python 3",
   "language": "python",
   "name": "python3"
  },
  "language_info": {
   "codemirror_mode": {
    "name": "ipython",
    "version": 3
   },
   "file_extension": ".py",
   "mimetype": "text/x-python",
   "name": "python",
   "nbconvert_exporter": "python",
   "pygments_lexer": "ipython3",
   "version": "3.12.3"
  }
 },
 "nbformat": 4,
 "nbformat_minor": 2
}
